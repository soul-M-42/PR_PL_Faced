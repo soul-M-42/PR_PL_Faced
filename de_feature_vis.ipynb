{
 "cells": [
  {
   "cell_type": "code",
   "execution_count": 6,
   "metadata": {},
   "outputs": [
    {
     "name": "stdout",
     "output_type": "stream",
     "text": [
      "(28, 30, 160)\n"
     ]
    }
   ],
   "source": [
    "import numpy as np\n",
    "import os\n",
    "import pickle\n",
    "import matplotlib.pyplot as plt\n",
    "DE_dir = './data/Faced/DE'\n",
    "test_id = 0\n",
    "if(test_id < 10):\n",
    "    test_id = f'sub00{test_id}.pkl.pkl'\n",
    "elif(test_id < 100):\n",
    "    test_id = f'sub0{test_id}.pkl.pkl'\n",
    "else:\n",
    "    test_id = f'sub{test_id}.pkl.pkl'\n",
    "lds = 1\n",
    "if lds:\n",
    "    test_id = 'lds' + test_id\n",
    "sub_de_dir = os.path.join(DE_dir, test_id)\n",
    "with open(sub_de_dir, 'rb') as file:\n",
    "    de_matrix = pickle.load(file)\n",
    "    if not lds:\n",
    "        de_matrix = np.transpose(de_matrix, (0, 2, 1, 3))\n",
    "        de_matrix = de_matrix.reshape((28, 30, 32*5))\n",
    "    print(de_matrix.shape)\n",
    "    plt.im"
   ]
  },
  {
   "cell_type": "code",
   "execution_count": null,
   "metadata": {},
   "outputs": [],
   "source": []
  }
 ],
 "metadata": {
  "kernelspec": {
   "display_name": "PRPL",
   "language": "python",
   "name": "python3"
  },
  "language_info": {
   "codemirror_mode": {
    "name": "ipython",
    "version": 3
   },
   "file_extension": ".py",
   "mimetype": "text/x-python",
   "name": "python",
   "nbconvert_exporter": "python",
   "pygments_lexer": "ipython3",
   "version": "3.7.12"
  }
 },
 "nbformat": 4,
 "nbformat_minor": 2
}
